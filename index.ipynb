{
 "cells": [
  {
   "cell_type": "code",
   "execution_count": 3,
   "id": "e93d2c32",
   "metadata": {},
   "outputs": [],
   "source": [
    "import pandas as pd"
   ]
  },
  {
   "cell_type": "markdown",
   "id": "0834874a",
   "metadata": {},
   "source": [
    "##Extraction\n"
   ]
  },
  {
   "cell_type": "code",
   "execution_count": 4,
   "id": "6ce9fff9",
   "metadata": {},
   "outputs": [],
   "source": [
    "travels_data= pd.read_csv('https://drive.google.com/uc?id=1muwnik-uFGTKBdHmcQN5z68rD7qmdG-b')"
   ]
  },
  {
   "cell_type": "code",
   "execution_count": 5,
   "id": "f39cf058",
   "metadata": {},
   "outputs": [],
   "source": [
    "travels_dataset = travels_data.copy()"
   ]
  },
  {
   "cell_type": "code",
   "execution_count": 6,
   "id": "67a09c1e",
   "metadata": {},
   "outputs": [
    {
     "data": {
      "text/plain": [
       "(418, 6)"
      ]
     },
     "execution_count": 6,
     "metadata": {},
     "output_type": "execute_result"
    }
   ],
   "source": [
    "travels_dataset.shape"
   ]
  },
  {
   "cell_type": "code",
   "execution_count": 7,
   "id": "94875564",
   "metadata": {},
   "outputs": [
    {
     "name": "stdout",
     "output_type": "stream",
     "text": [
      "<class 'pandas.core.frame.DataFrame'>\n",
      "RangeIndex: 418 entries, 0 to 417\n",
      "Data columns (total 6 columns):\n",
      " #   Column                 Non-Null Count  Dtype  \n",
      "---  ------                 --------------  -----  \n",
      " 0   Employee               418 non-null    object \n",
      " 1   Destination            418 non-null    object \n",
      " 2   Travel Start Date      418 non-null    object \n",
      " 3   Travel End Date        418 non-null    object \n",
      " 4   Actual Total Expenses  418 non-null    float64\n",
      " 5   Purpose Of Travel      415 non-null    object \n",
      "dtypes: float64(1), object(5)\n",
      "memory usage: 19.7+ KB\n"
     ]
    }
   ],
   "source": [
    "travels_dataset.info()"
   ]
  },
  {
   "cell_type": "markdown",
   "id": "e94ac788",
   "metadata": {},
   "source": [
    "###cleaning DataSEt\n"
   ]
  },
  {
   "cell_type": "code",
   "execution_count": 8,
   "id": "27fbc381",
   "metadata": {},
   "outputs": [
    {
     "data": {
      "text/plain": [
       "0           2017-05-31\n",
       "1           2016-01-24\n",
       "2           2018-10-04\n",
       "3           2016-06-19\n",
       "4           2019-11-19\n",
       "            ...       \n",
       "413    2017-11-06     \n",
       "414         2019-03-25\n",
       "415         2017-11-06\n",
       "416         2017-05-21\n",
       "417         2019-08-13\n",
       "Name: Travel Start Date, Length: 418, dtype: object"
      ]
     },
     "execution_count": 8,
     "metadata": {},
     "output_type": "execute_result"
    }
   ],
   "source": [
    "travels_dataset['Travel Start Date']"
   ]
  },
  {
   "cell_type": "code",
   "execution_count": 9,
   "id": "f97b5bfb",
   "metadata": {},
   "outputs": [
    {
     "name": "stdout",
     "output_type": "stream",
     "text": [
      "<class 'pandas.core.frame.DataFrame'>\n",
      "RangeIndex: 418 entries, 0 to 417\n",
      "Data columns (total 6 columns):\n",
      " #   Column                 Non-Null Count  Dtype  \n",
      "---  ------                 --------------  -----  \n",
      " 0   Employee               418 non-null    object \n",
      " 1   Destination            418 non-null    object \n",
      " 2   Travel Start Date      418 non-null    object \n",
      " 3   Travel End Date        418 non-null    object \n",
      " 4   Actual Total Expenses  418 non-null    float64\n",
      " 5   Purpose Of Travel      415 non-null    object \n",
      "dtypes: float64(1), object(5)\n",
      "memory usage: 19.7+ KB\n"
     ]
    }
   ],
   "source": [
    "travels_dataset.info()"
   ]
  },
  {
   "cell_type": "code",
   "execution_count": 10,
   "id": "89151c66",
   "metadata": {},
   "outputs": [],
   "source": [
    "def remove_white_space(text):\n",
    "    if type(text):\n",
    "        return text.strip()\n",
    "    return text"
   ]
  },
  {
   "cell_type": "code",
   "execution_count": 11,
   "id": "13d57da0",
   "metadata": {},
   "outputs": [
    {
     "name": "stdout",
     "output_type": "stream",
     "text": [
      "<class 'pandas.core.frame.DataFrame'>\n",
      "RangeIndex: 418 entries, 0 to 417\n",
      "Data columns (total 6 columns):\n",
      " #   Column                 Non-Null Count  Dtype  \n",
      "---  ------                 --------------  -----  \n",
      " 0   Employee               418 non-null    object \n",
      " 1   Destination            418 non-null    object \n",
      " 2   Travel Start Date      418 non-null    object \n",
      " 3   Travel End Date        418 non-null    object \n",
      " 4   Actual Total Expenses  418 non-null    float64\n",
      " 5   Purpose Of Travel      415 non-null    object \n",
      "dtypes: float64(1), object(5)\n",
      "memory usage: 19.7+ KB\n"
     ]
    }
   ],
   "source": [
    "travels_dataset.info()"
   ]
  },
  {
   "cell_type": "markdown",
   "id": "766abc55",
   "metadata": {},
   "source": [
    "##Converting the Travel Start Date and Travel end date to Date format\n"
   ]
  },
  {
   "cell_type": "code",
   "execution_count": 12,
   "id": "03ea6057",
   "metadata": {},
   "outputs": [],
   "source": [
    "travels_dataset['Travel Start Date'] = travels_dataset['Travel Start Date'].apply(remove_white_space)"
   ]
  },
  {
   "cell_type": "code",
   "execution_count": 13,
   "id": "82e7fef6",
   "metadata": {},
   "outputs": [],
   "source": [
    "travels_dataset['Travel Start Date'] = pd.to_datetime(travels_dataset['Travel Start Date'])"
   ]
  },
  {
   "cell_type": "code",
   "execution_count": 14,
   "id": "199353f6",
   "metadata": {},
   "outputs": [
    {
     "name": "stdout",
     "output_type": "stream",
     "text": [
      "<class 'pandas.core.frame.DataFrame'>\n",
      "RangeIndex: 418 entries, 0 to 417\n",
      "Data columns (total 6 columns):\n",
      " #   Column                 Non-Null Count  Dtype         \n",
      "---  ------                 --------------  -----         \n",
      " 0   Employee               418 non-null    object        \n",
      " 1   Destination            418 non-null    object        \n",
      " 2   Travel Start Date      418 non-null    datetime64[ns]\n",
      " 3   Travel End Date        418 non-null    object        \n",
      " 4   Actual Total Expenses  418 non-null    float64       \n",
      " 5   Purpose Of Travel      415 non-null    object        \n",
      "dtypes: datetime64[ns](1), float64(1), object(4)\n",
      "memory usage: 19.7+ KB\n"
     ]
    }
   ],
   "source": [
    "travels_dataset.info()"
   ]
  },
  {
   "cell_type": "code",
   "execution_count": 15,
   "id": "45a81c1d",
   "metadata": {},
   "outputs": [],
   "source": [
    "travels_dataset['Travel End Date'] = pd.to_datetime(travels_data['Travel End Date'])"
   ]
  },
  {
   "cell_type": "code",
   "execution_count": 16,
   "id": "190d0198",
   "metadata": {},
   "outputs": [
    {
     "name": "stdout",
     "output_type": "stream",
     "text": [
      "<class 'pandas.core.frame.DataFrame'>\n",
      "RangeIndex: 418 entries, 0 to 417\n",
      "Data columns (total 6 columns):\n",
      " #   Column                 Non-Null Count  Dtype         \n",
      "---  ------                 --------------  -----         \n",
      " 0   Employee               418 non-null    object        \n",
      " 1   Destination            418 non-null    object        \n",
      " 2   Travel Start Date      418 non-null    datetime64[ns]\n",
      " 3   Travel End Date        418 non-null    datetime64[ns]\n",
      " 4   Actual Total Expenses  418 non-null    float64       \n",
      " 5   Purpose Of Travel      415 non-null    object        \n",
      "dtypes: datetime64[ns](2), float64(1), object(3)\n",
      "memory usage: 19.7+ KB\n"
     ]
    }
   ],
   "source": [
    "travels_dataset.info()"
   ]
  },
  {
   "cell_type": "code",
   "execution_count": 17,
   "id": "2bd2cd0a",
   "metadata": {},
   "outputs": [
    {
     "data": {
      "text/html": [
       "<div>\n",
       "<style scoped>\n",
       "    .dataframe tbody tr th:only-of-type {\n",
       "        vertical-align: middle;\n",
       "    }\n",
       "\n",
       "    .dataframe tbody tr th {\n",
       "        vertical-align: top;\n",
       "    }\n",
       "\n",
       "    .dataframe thead th {\n",
       "        text-align: right;\n",
       "    }\n",
       "</style>\n",
       "<table border=\"1\" class=\"dataframe\">\n",
       "  <thead>\n",
       "    <tr style=\"text-align: right;\">\n",
       "      <th></th>\n",
       "      <th>Employee</th>\n",
       "      <th>Destination</th>\n",
       "      <th>Travel Start Date</th>\n",
       "      <th>Travel End Date</th>\n",
       "      <th>Actual Total Expenses</th>\n",
       "      <th>Purpose Of Travel</th>\n",
       "    </tr>\n",
       "  </thead>\n",
       "  <tbody>\n",
       "    <tr>\n",
       "      <th>126</th>\n",
       "      <td>Gaila Compton</td>\n",
       "      <td>OCEAN CITY, MD</td>\n",
       "      <td>2019-09-25</td>\n",
       "      <td>2019-09-27</td>\n",
       "      <td>690.00</td>\n",
       "      <td>NaN</td>\n",
       "    </tr>\n",
       "    <tr>\n",
       "      <th>274</th>\n",
       "      <td>Mark Sheelor</td>\n",
       "      <td>LAS VEGAS, NV</td>\n",
       "      <td>2017-03-06</td>\n",
       "      <td>2017-03-08</td>\n",
       "      <td>1411.34</td>\n",
       "      <td>NaN</td>\n",
       "    </tr>\n",
       "    <tr>\n",
       "      <th>385</th>\n",
       "      <td>Tamara Maldonado</td>\n",
       "      <td>OCEAN CITY, MD</td>\n",
       "      <td>2017-10-19</td>\n",
       "      <td>2017-10-20</td>\n",
       "      <td>73.50</td>\n",
       "      <td>NaN</td>\n",
       "    </tr>\n",
       "  </tbody>\n",
       "</table>\n",
       "</div>"
      ],
      "text/plain": [
       "             Employee     Destination Travel Start Date Travel End Date  \\\n",
       "126     Gaila Compton  OCEAN CITY, MD        2019-09-25      2019-09-27   \n",
       "274      Mark Sheelor   LAS VEGAS, NV        2017-03-06      2017-03-08   \n",
       "385  Tamara Maldonado  OCEAN CITY, MD        2017-10-19      2017-10-20   \n",
       "\n",
       "     Actual Total Expenses Purpose Of Travel  \n",
       "126                 690.00               NaN  \n",
       "274                1411.34               NaN  \n",
       "385                  73.50               NaN  "
      ]
     },
     "execution_count": 17,
     "metadata": {},
     "output_type": "execute_result"
    }
   ],
   "source": [
    "##Detection of missing values in Purpose of Travel\n",
    "travels_dataset[travels_dataset['Purpose Of Travel'].isna()]"
   ]
  },
  {
   "cell_type": "code",
   "execution_count": 18,
   "id": "a4d996cd",
   "metadata": {},
   "outputs": [],
   "source": [
    "## fill the missing values with Not provided\n",
    "travels_dataset['Purpose Of Travel']=travels_dataset['Purpose Of Travel'].fillna('Not Provided')"
   ]
  },
  {
   "cell_type": "code",
   "execution_count": 19,
   "id": "9d65f730",
   "metadata": {},
   "outputs": [
    {
     "name": "stdout",
     "output_type": "stream",
     "text": [
      "<class 'pandas.core.frame.DataFrame'>\n",
      "RangeIndex: 418 entries, 0 to 417\n",
      "Data columns (total 6 columns):\n",
      " #   Column                 Non-Null Count  Dtype         \n",
      "---  ------                 --------------  -----         \n",
      " 0   Employee               418 non-null    object        \n",
      " 1   Destination            418 non-null    object        \n",
      " 2   Travel Start Date      418 non-null    datetime64[ns]\n",
      " 3   Travel End Date        418 non-null    datetime64[ns]\n",
      " 4   Actual Total Expenses  418 non-null    float64       \n",
      " 5   Purpose Of Travel      418 non-null    object        \n",
      "dtypes: datetime64[ns](2), float64(1), object(3)\n",
      "memory usage: 19.7+ KB\n"
     ]
    }
   ],
   "source": [
    "travels_dataset.info()"
   ]
  },
  {
   "cell_type": "code",
   "execution_count": 20,
   "id": "b61b7ea1",
   "metadata": {},
   "outputs": [],
   "source": [
    "##Separate state and city\n",
    "def extract_state(text):\n",
    "    result = text.split(',')[1]\n",
    "    return result\n",
    "\n",
    "\n",
    "def extract_city(text):\n",
    "    result = text.split(',')[0]\n",
    "    return result   "
   ]
  },
  {
   "cell_type": "code",
   "execution_count": 21,
   "id": "f5a17903",
   "metadata": {},
   "outputs": [],
   "source": [
    "travels_dataset['State']=travels_dataset['Destination'].apply(extract_state)\n",
    "travels_dataset['City']=travels_dataset['Destination'].apply(extract_city)"
   ]
  },
  {
   "cell_type": "code",
   "execution_count": 25,
   "id": "8f404075",
   "metadata": {},
   "outputs": [],
   "source": [
    "def extract_lastname(text):\n",
    "    \"\"\"Extract lastname\"\"\"\n",
    "    result = text.split(' ')[-1]\n",
    "    return result\n",
    "def extract_middlename(text):\n",
    "    result = text.split(' ')[-2]\n",
    "    return result\n",
    "def extract_firstname(text):\n",
    "    result = text.split(' ')\n",
    "    return result\n"
   ]
  },
  {
   "cell_type": "code",
   "execution_count": 26,
   "id": "39f71849",
   "metadata": {},
   "outputs": [],
   "source": [
    "travels_dataset['lastname']=travels_dataset['Employee'].apply(extract_lastname)\n",
    "travels_dataset['middlename']=travels_dataset['Employee'].apply(extract_middlename)"
   ]
  },
  {
   "cell_type": "code",
   "execution_count": 23,
   "id": "5060d762",
   "metadata": {},
   "outputs": [
    {
     "data": {
      "text/html": [
       "<div>\n",
       "<style scoped>\n",
       "    .dataframe tbody tr th:only-of-type {\n",
       "        vertical-align: middle;\n",
       "    }\n",
       "\n",
       "    .dataframe tbody tr th {\n",
       "        vertical-align: top;\n",
       "    }\n",
       "\n",
       "    .dataframe thead th {\n",
       "        text-align: right;\n",
       "    }\n",
       "</style>\n",
       "<table border=\"1\" class=\"dataframe\">\n",
       "  <thead>\n",
       "    <tr style=\"text-align: right;\">\n",
       "      <th></th>\n",
       "      <th>Employee</th>\n",
       "      <th>Destination</th>\n",
       "      <th>Travel Start Date</th>\n",
       "      <th>Travel End Date</th>\n",
       "      <th>Actual Total Expenses</th>\n",
       "      <th>Purpose Of Travel</th>\n",
       "      <th>State</th>\n",
       "      <th>City</th>\n",
       "    </tr>\n",
       "  </thead>\n",
       "  <tbody>\n",
       "    <tr>\n",
       "      <th>0</th>\n",
       "      <td>Aaron Salter</td>\n",
       "      <td>OCEAN CITY, MD</td>\n",
       "      <td>2017-05-31</td>\n",
       "      <td>2017-06-02</td>\n",
       "      <td>644.10</td>\n",
       "      <td>Conference</td>\n",
       "      <td>MD</td>\n",
       "      <td>OCEAN CITY</td>\n",
       "    </tr>\n",
       "    <tr>\n",
       "      <th>1</th>\n",
       "      <td>Abigail Ratnofsky</td>\n",
       "      <td>SAN DIEGO, CA</td>\n",
       "      <td>2016-01-24</td>\n",
       "      <td>2016-01-29</td>\n",
       "      <td>2962.70</td>\n",
       "      <td>Conference</td>\n",
       "      <td>CA</td>\n",
       "      <td>SAN DIEGO</td>\n",
       "    </tr>\n",
       "    <tr>\n",
       "      <th>2</th>\n",
       "      <td>Adam Kisthardt</td>\n",
       "      <td>ORLANDO, FL</td>\n",
       "      <td>2018-10-04</td>\n",
       "      <td>2018-10-09</td>\n",
       "      <td>1891.19</td>\n",
       "      <td>Conference</td>\n",
       "      <td>FL</td>\n",
       "      <td>ORLANDO</td>\n",
       "    </tr>\n",
       "    <tr>\n",
       "      <th>3</th>\n",
       "      <td>Adam P. Jones</td>\n",
       "      <td>OCEAN CITY, MD</td>\n",
       "      <td>2016-06-19</td>\n",
       "      <td>2016-06-21</td>\n",
       "      <td>324.36</td>\n",
       "      <td>Conference</td>\n",
       "      <td>MD</td>\n",
       "      <td>OCEAN CITY</td>\n",
       "    </tr>\n",
       "    <tr>\n",
       "      <th>4</th>\n",
       "      <td>Alan Butsch</td>\n",
       "      <td>SAN DIEGO, CA</td>\n",
       "      <td>2019-11-19</td>\n",
       "      <td>2019-11-22</td>\n",
       "      <td>2141.51</td>\n",
       "      <td>Conference</td>\n",
       "      <td>CA</td>\n",
       "      <td>SAN DIEGO</td>\n",
       "    </tr>\n",
       "    <tr>\n",
       "      <th>...</th>\n",
       "      <td>...</td>\n",
       "      <td>...</td>\n",
       "      <td>...</td>\n",
       "      <td>...</td>\n",
       "      <td>...</td>\n",
       "      <td>...</td>\n",
       "      <td>...</td>\n",
       "      <td>...</td>\n",
       "    </tr>\n",
       "    <tr>\n",
       "      <th>413</th>\n",
       "      <td>Warren Jensen!</td>\n",
       "      <td>OCEAN CITY, MD</td>\n",
       "      <td>2017-11-06</td>\n",
       "      <td>2017-11-09</td>\n",
       "      <td>502.45</td>\n",
       "      <td>Conference</td>\n",
       "      <td>MD</td>\n",
       "      <td>OCEAN CITY</td>\n",
       "    </tr>\n",
       "    <tr>\n",
       "      <th>414</th>\n",
       "      <td>Warp Jensen</td>\n",
       "      <td>OCEAN CITY, MD</td>\n",
       "      <td>2019-03-25</td>\n",
       "      <td>2019-03-26</td>\n",
       "      <td>78.00</td>\n",
       "      <td>Conference</td>\n",
       "      <td>MD</td>\n",
       "      <td>OCEAN CITY</td>\n",
       "    </tr>\n",
       "    <tr>\n",
       "      <th>415</th>\n",
       "      <td>Whitney Kujawa</td>\n",
       "      <td>OCEAN CITY, MD</td>\n",
       "      <td>2017-11-06</td>\n",
       "      <td>2017-11-09</td>\n",
       "      <td>567.00</td>\n",
       "      <td>Conference</td>\n",
       "      <td>MD</td>\n",
       "      <td>OCEAN CITY</td>\n",
       "    </tr>\n",
       "    <tr>\n",
       "      <th>416</th>\n",
       "      <td>William Kinna</td>\n",
       "      <td>CHARLOTTE, NC</td>\n",
       "      <td>2017-05-21</td>\n",
       "      <td>2017-05-26</td>\n",
       "      <td>2163.67</td>\n",
       "      <td>Conference</td>\n",
       "      <td>NC</td>\n",
       "      <td>CHARLOTTE</td>\n",
       "    </tr>\n",
       "    <tr>\n",
       "      <th>417</th>\n",
       "      <td>Xin Qi</td>\n",
       "      <td>OCEAN CITY, MD</td>\n",
       "      <td>2019-08-13</td>\n",
       "      <td>2019-08-17</td>\n",
       "      <td>2107.51</td>\n",
       "      <td>Conference</td>\n",
       "      <td>MD</td>\n",
       "      <td>OCEAN CITY</td>\n",
       "    </tr>\n",
       "  </tbody>\n",
       "</table>\n",
       "<p>418 rows × 8 columns</p>\n",
       "</div>"
      ],
      "text/plain": [
       "              Employee     Destination Travel Start Date Travel End Date  \\\n",
       "0         Aaron Salter  OCEAN CITY, MD        2017-05-31      2017-06-02   \n",
       "1    Abigail Ratnofsky   SAN DIEGO, CA        2016-01-24      2016-01-29   \n",
       "2       Adam Kisthardt     ORLANDO, FL        2018-10-04      2018-10-09   \n",
       "3        Adam P. Jones  OCEAN CITY, MD        2016-06-19      2016-06-21   \n",
       "4          Alan Butsch   SAN DIEGO, CA        2019-11-19      2019-11-22   \n",
       "..                 ...             ...               ...             ...   \n",
       "413     Warren Jensen!  OCEAN CITY, MD        2017-11-06      2017-11-09   \n",
       "414        Warp Jensen  OCEAN CITY, MD        2019-03-25      2019-03-26   \n",
       "415     Whitney Kujawa  OCEAN CITY, MD        2017-11-06      2017-11-09   \n",
       "416      William Kinna   CHARLOTTE, NC        2017-05-21      2017-05-26   \n",
       "417             Xin Qi  OCEAN CITY, MD        2019-08-13      2019-08-17   \n",
       "\n",
       "     Actual Total Expenses Purpose Of Travel State        City  \n",
       "0                   644.10        Conference    MD  OCEAN CITY  \n",
       "1                  2962.70        Conference    CA   SAN DIEGO  \n",
       "2                  1891.19        Conference    FL     ORLANDO  \n",
       "3                   324.36        Conference    MD  OCEAN CITY  \n",
       "4                  2141.51        Conference    CA   SAN DIEGO  \n",
       "..                     ...               ...   ...         ...  \n",
       "413                 502.45        Conference    MD  OCEAN CITY  \n",
       "414                  78.00        Conference    MD  OCEAN CITY  \n",
       "415                 567.00        Conference    MD  OCEAN CITY  \n",
       "416                2163.67        Conference    NC   CHARLOTTE  \n",
       "417                2107.51        Conference    MD  OCEAN CITY  \n",
       "\n",
       "[418 rows x 8 columns]"
      ]
     },
     "execution_count": 23,
     "metadata": {},
     "output_type": "execute_result"
    }
   ],
   "source": [
    "travels_dataset"
   ]
  },
  {
   "cell_type": "code",
   "execution_count": 21,
   "id": "2ab0fea6",
   "metadata": {},
   "outputs": [],
   "source": [
    "columns = ['Employee', 'State', 'City' ,'Travel Start Date', 'Travel End Date', 'Actual Total Expenses', 'Purpose Of Travel']\n",
    "final_result = travels_dataset[columns].copy()"
   ]
  },
  {
   "cell_type": "code",
   "execution_count": 22,
   "id": "1488d393",
   "metadata": {},
   "outputs": [],
   "source": [
    "final_result.to_csv('cleaned_travels_dataset.csv')"
   ]
  },
  {
   "cell_type": "code",
   "execution_count": 23,
   "id": "eacde5cf",
   "metadata": {},
   "outputs": [
    {
     "data": {
      "text/html": [
       "<div>\n",
       "<style scoped>\n",
       "    .dataframe tbody tr th:only-of-type {\n",
       "        vertical-align: middle;\n",
       "    }\n",
       "\n",
       "    .dataframe tbody tr th {\n",
       "        vertical-align: top;\n",
       "    }\n",
       "\n",
       "    .dataframe thead th {\n",
       "        text-align: right;\n",
       "    }\n",
       "</style>\n",
       "<table border=\"1\" class=\"dataframe\">\n",
       "  <thead>\n",
       "    <tr style=\"text-align: right;\">\n",
       "      <th></th>\n",
       "      <th>Employee</th>\n",
       "      <th>State</th>\n",
       "      <th>City</th>\n",
       "      <th>Travel Start Date</th>\n",
       "      <th>Travel End Date</th>\n",
       "      <th>Actual Total Expenses</th>\n",
       "      <th>Purpose Of Travel</th>\n",
       "    </tr>\n",
       "  </thead>\n",
       "  <tbody>\n",
       "    <tr>\n",
       "      <th>0</th>\n",
       "      <td>Aaron Salter</td>\n",
       "      <td>MD</td>\n",
       "      <td>OCEAN CITY</td>\n",
       "      <td>2017-05-31</td>\n",
       "      <td>2017-06-02</td>\n",
       "      <td>644.10</td>\n",
       "      <td>Conference</td>\n",
       "    </tr>\n",
       "    <tr>\n",
       "      <th>1</th>\n",
       "      <td>Abigail Ratnofsky</td>\n",
       "      <td>CA</td>\n",
       "      <td>SAN DIEGO</td>\n",
       "      <td>2016-01-24</td>\n",
       "      <td>2016-01-29</td>\n",
       "      <td>2962.70</td>\n",
       "      <td>Conference</td>\n",
       "    </tr>\n",
       "    <tr>\n",
       "      <th>2</th>\n",
       "      <td>Adam Kisthardt</td>\n",
       "      <td>FL</td>\n",
       "      <td>ORLANDO</td>\n",
       "      <td>2018-10-04</td>\n",
       "      <td>2018-10-09</td>\n",
       "      <td>1891.19</td>\n",
       "      <td>Conference</td>\n",
       "    </tr>\n",
       "    <tr>\n",
       "      <th>3</th>\n",
       "      <td>Adam P. Jones</td>\n",
       "      <td>MD</td>\n",
       "      <td>OCEAN CITY</td>\n",
       "      <td>2016-06-19</td>\n",
       "      <td>2016-06-21</td>\n",
       "      <td>324.36</td>\n",
       "      <td>Conference</td>\n",
       "    </tr>\n",
       "    <tr>\n",
       "      <th>4</th>\n",
       "      <td>Alan Butsch</td>\n",
       "      <td>CA</td>\n",
       "      <td>SAN DIEGO</td>\n",
       "      <td>2019-11-19</td>\n",
       "      <td>2019-11-22</td>\n",
       "      <td>2141.51</td>\n",
       "      <td>Conference</td>\n",
       "    </tr>\n",
       "    <tr>\n",
       "      <th>...</th>\n",
       "      <td>...</td>\n",
       "      <td>...</td>\n",
       "      <td>...</td>\n",
       "      <td>...</td>\n",
       "      <td>...</td>\n",
       "      <td>...</td>\n",
       "      <td>...</td>\n",
       "    </tr>\n",
       "    <tr>\n",
       "      <th>413</th>\n",
       "      <td>Warren Jensen!</td>\n",
       "      <td>MD</td>\n",
       "      <td>OCEAN CITY</td>\n",
       "      <td>2017-11-06</td>\n",
       "      <td>2017-11-09</td>\n",
       "      <td>502.45</td>\n",
       "      <td>Conference</td>\n",
       "    </tr>\n",
       "    <tr>\n",
       "      <th>414</th>\n",
       "      <td>Warp Jensen</td>\n",
       "      <td>MD</td>\n",
       "      <td>OCEAN CITY</td>\n",
       "      <td>2019-03-25</td>\n",
       "      <td>2019-03-26</td>\n",
       "      <td>78.00</td>\n",
       "      <td>Conference</td>\n",
       "    </tr>\n",
       "    <tr>\n",
       "      <th>415</th>\n",
       "      <td>Whitney Kujawa</td>\n",
       "      <td>MD</td>\n",
       "      <td>OCEAN CITY</td>\n",
       "      <td>2017-11-06</td>\n",
       "      <td>2017-11-09</td>\n",
       "      <td>567.00</td>\n",
       "      <td>Conference</td>\n",
       "    </tr>\n",
       "    <tr>\n",
       "      <th>416</th>\n",
       "      <td>William Kinna</td>\n",
       "      <td>NC</td>\n",
       "      <td>CHARLOTTE</td>\n",
       "      <td>2017-05-21</td>\n",
       "      <td>2017-05-26</td>\n",
       "      <td>2163.67</td>\n",
       "      <td>Conference</td>\n",
       "    </tr>\n",
       "    <tr>\n",
       "      <th>417</th>\n",
       "      <td>Xin Qi</td>\n",
       "      <td>MD</td>\n",
       "      <td>OCEAN CITY</td>\n",
       "      <td>2019-08-13</td>\n",
       "      <td>2019-08-17</td>\n",
       "      <td>2107.51</td>\n",
       "      <td>Conference</td>\n",
       "    </tr>\n",
       "  </tbody>\n",
       "</table>\n",
       "<p>418 rows × 7 columns</p>\n",
       "</div>"
      ],
      "text/plain": [
       "              Employee State        City Travel Start Date Travel End Date  \\\n",
       "0         Aaron Salter    MD  OCEAN CITY        2017-05-31      2017-06-02   \n",
       "1    Abigail Ratnofsky    CA   SAN DIEGO        2016-01-24      2016-01-29   \n",
       "2       Adam Kisthardt    FL     ORLANDO        2018-10-04      2018-10-09   \n",
       "3        Adam P. Jones    MD  OCEAN CITY        2016-06-19      2016-06-21   \n",
       "4          Alan Butsch    CA   SAN DIEGO        2019-11-19      2019-11-22   \n",
       "..                 ...   ...         ...               ...             ...   \n",
       "413     Warren Jensen!    MD  OCEAN CITY        2017-11-06      2017-11-09   \n",
       "414        Warp Jensen    MD  OCEAN CITY        2019-03-25      2019-03-26   \n",
       "415     Whitney Kujawa    MD  OCEAN CITY        2017-11-06      2017-11-09   \n",
       "416      William Kinna    NC   CHARLOTTE        2017-05-21      2017-05-26   \n",
       "417             Xin Qi    MD  OCEAN CITY        2019-08-13      2019-08-17   \n",
       "\n",
       "     Actual Total Expenses Purpose Of Travel  \n",
       "0                   644.10        Conference  \n",
       "1                  2962.70        Conference  \n",
       "2                  1891.19        Conference  \n",
       "3                   324.36        Conference  \n",
       "4                  2141.51        Conference  \n",
       "..                     ...               ...  \n",
       "413                 502.45        Conference  \n",
       "414                  78.00        Conference  \n",
       "415                 567.00        Conference  \n",
       "416                2163.67        Conference  \n",
       "417                2107.51        Conference  \n",
       "\n",
       "[418 rows x 7 columns]"
      ]
     },
     "execution_count": 23,
     "metadata": {},
     "output_type": "execute_result"
    }
   ],
   "source": [
    "final_result"
   ]
  },
  {
   "cell_type": "code",
   "execution_count": null,
   "id": "60c39a2a",
   "metadata": {},
   "outputs": [],
   "source": []
  }
 ],
 "metadata": {
  "kernelspec": {
   "display_name": "Python 3 (ipykernel)",
   "language": "python",
   "name": "python3"
  },
  "language_info": {
   "codemirror_mode": {
    "name": "ipython",
    "version": 3
   },
   "file_extension": ".py",
   "mimetype": "text/x-python",
   "name": "python",
   "nbconvert_exporter": "python",
   "pygments_lexer": "ipython3",
   "version": "3.10.9"
  }
 },
 "nbformat": 4,
 "nbformat_minor": 5
}
